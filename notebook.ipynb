{
 "cells": [
  {
   "cell_type": "markdown",
   "id": "17ec8d6a-4218-49b9-a549-0977cec82967",
   "metadata": {
    "id": "MVpsYfWg3z0B"
   },
   "source": [
    "# PW1 - Handwritten character recognition\n"
   ]
  },
  {
   "cell_type": "code",
   "execution_count": 162,
   "id": "d682452d-e56e-4de8-a420-4418d63790a7",
   "metadata": {},
   "outputs": [],
   "source": [
    "# Write your name here (e.g. \"Edmond Dantès\") so I can grade your work\n",
    "your_name = \"Arnaud COURNIL\"\n",
    "assert your_name"
   ]
  },
  {
   "cell_type": "code",
   "execution_count": 163,
   "id": "f8538cf7-81e0-481a-8059-be38b611aafb",
   "metadata": {
    "id": "8CcAqNjJ3z0F"
   },
   "outputs": [],
   "source": [
    "%matplotlib inline\n",
    "import math, sys, os, torch, torchvision\n",
    "from torch import nn\n",
    "import numpy as np\n",
    "import matplotlib.pyplot as plt"
   ]
  },
  {
   "cell_type": "code",
   "execution_count": 164,
   "id": "c864b86e-6e6b-4d8a-82c8-6822072a676f",
   "metadata": {
    "id": "3Wxb9pdV3z0F"
   },
   "outputs": [
    {
     "name": "stdout",
     "output_type": "stream",
     "text": [
      "Using gpu: False \n"
     ]
    }
   ],
   "source": [
    "device = torch.device(\"cuda:0\" if torch.cuda.is_available() else \"cpu\")\n",
    "print('Using gpu: %s ' % torch.cuda.is_available())"
   ]
  },
  {
   "cell_type": "markdown",
   "id": "aa038da6-b812-4053-9b72-8ff97ceb3b9b",
   "metadata": {
    "id": "1Sjq8zzf3z0G"
   },
   "source": [
    "We will be training many models. Select a number of epochs to train each model. If you are using a slow machine, or if you want to restart training often and have many development iterations, we suggest `NUM_EPOCH = 2`. If you are using a fast machine, or have a GPU available, of if you are confident that you can write accurate code first try, you will get better accuracies by increasing this constant. You could be able to afford up to `NUM_EPOCH = 10`."
   ]
  },
  {
   "cell_type": "code",
   "execution_count": 165,
   "id": "137adce6-13cc-4ccc-aaf3-42230e322a9b",
   "metadata": {
    "id": "L9CF0H4O3z0G"
   },
   "outputs": [],
   "source": [
    "NUM_EPOCH = 10"
   ]
  },
  {
   "cell_type": "markdown",
   "id": "6ce850e9-ef4e-4323-af2d-be6b94e98994",
   "metadata": {
    "id": "65e20f5e"
   },
   "source": [
    "# Part A - Linear, MLP, and CNN\n"
   ]
  },
  {
   "cell_type": "markdown",
   "id": "05aff4bd-8b1d-4531-89d8-64ce4e2b6357",
   "metadata": {
    "id": "KSAiV2ov3z0H"
   },
   "source": [
    "## Handwritten digit recognition dataset\n",
    "\n",
    "We will use the MNIST database (Modified National Institute of Standards and Technology database). It contains tens of thousands of pictures of handwritten digits. This database was compiled in 1994, as part of the effort in the 1990s to standardize automation of sorting devices with human input, for instance sorting mail with handwritten postal codes at the post office. This is now often considered one of the first real successes of neural networks, and the first easy example on which performance of new such algorithms is tested."
   ]
  },
  {
   "cell_type": "markdown",
   "id": "3429898a-0f57-4cdf-9aa6-7b1121ee4e53",
   "metadata": {},
   "source": [
    "Load the dataset (train and test splits) using `torchvision`"
   ]
  },
  {
   "cell_type": "code",
   "execution_count": null,
   "id": "59e1c523-4b78-492a-b103-2861af8c3d89",
   "metadata": {
    "id": "Zu3hU4dQ3z0H"
   },
   "outputs": [],
   "source": [
    "#root_dir = './data/MNIST/'\n",
    "\n",
    "transform = torchvision.transforms.Compose([\n",
    "    torchvision.transforms.ToTensor(),\n",
    "    torchvision.transforms.Normalize((0.1307,), (0.3081,))\n",
    "])\n",
    "\n",
    "train_dataset = torchvision.datasets.MNIST(root='./data', train=True, download=True, transform=transform)\n",
    "\n",
    "test_dataset = torchvision.datasets.MNIST(root='./data', train=False, download=True, transform=transform)\n",
    "\n",
    "train_loader = torch.utils.data.DataLoader(train_dataset, batch_size=256, shuffle=True)\n",
    "test_loader = torch.utils.data.DataLoader(test_dataset, batch_size=1000, shuffle=False)"
   ]
  },
  {
   "cell_type": "markdown",
   "id": "d77fbaba-b01f-46d0-a1d7-47c59faaf042",
   "metadata": {},
   "source": [
    "How many examples in each split? \n",
    "\n",
    "Plot the first image and label of the training set using `matplotlib`\n",
    "\n",
    "What is the input dimension?"
   ]
  },
  {
   "cell_type": "code",
   "execution_count": 167,
   "id": "083f07f4-e129-4e9b-b26e-a32fd4bdb99d",
   "metadata": {
    "id": "9fgMls5P3z0I",
    "scrolled": true
   },
   "outputs": [
    {
     "name": "stdout",
     "output_type": "stream",
     "text": [
      "Nb d'images dans train : 60000 ; nb d'images dans test : 10000\n"
     ]
    }
   ],
   "source": [
    "print(\"Nb d'images dans train :\",len(train_dataset),\"; nb d'images dans test :\",len(test_dataset))"
   ]
  },
  {
   "cell_type": "code",
   "execution_count": 168,
   "id": "59629591",
   "metadata": {},
   "outputs": [
    {
     "data": {
      "image/png": "[encoded data removed]",
      "text/plain": [
       "<Figure size 640x480 with 1 Axes>"
      ]
     },
     "metadata": {},
     "output_type": "display_data"
    }
   ],
   "source": [
    "images, labels = list(train_loader)[0]\n",
    "\n",
    "plt.imshow(images[0][0])\n",
    "plt.title(labels[0])\n",
    "plt.axis('off')\n",
    "plt.show()"
   ]
  },
  {
   "cell_type": "code",
   "execution_count": 169,
   "id": "dc2fbd26-b017-435a-822e-ad382eabd8a4",
   "metadata": {},
   "outputs": [
    {
     "name": "stdout",
     "output_type": "stream",
     "text": [
      "Dimension d'une image torch.Size([28, 28])\n"
     ]
    }
   ],
   "source": [
    "print(\"Dimension d'une image\", (images[0][0].shape))"
   ]
  },
  {
   "cell_type": "markdown",
   "id": "f6380c03-1427-4dea-974e-5a38621ea6c1",
   "metadata": {
    "id": "Guv5_hY63z0L"
   },
   "source": [
    "# A.1 - Linear features\n",
    "\n",
    "We start with a very simple model, linear with respect to pixel values.\n",
    "Use a `preprocess` function to downsample the image to 7x7 pixels, then flatten it and use a `torch.nn.Linear` model.\n",
    "\n",
    "The torch average-pooling function is `torch.nn.functional.avg_pool2d`, check the documentation to set the arguments properly.\n",
    "DO NOT use your implementation of average-pooling, it would take prohibitively long to train and you would not finish the practical.\n",
    "If the training takes too long, go back to the first section and lower the `NUM_EPOCH` constant."
   ]
  },
  {
   "cell_type": "markdown",
   "id": "f2bb8e5d-7d84-4a59-aa5d-e942ffa22aa8",
   "metadata": {},
   "source": [
    "Again, use matplotlib to visualize an example of downsampling"
   ]
  },
  {
   "cell_type": "code",
   "execution_count": null,
   "id": "6aa4adcb-be17-4f0d-ba9f-4da062227230",
   "metadata": {
    "id": "2v3GqEPU3z0L"
   },
   "outputs": [],
   "source": [
    "class LinearModel(nn.Module):\n",
    "    def __init__(self, input_channels=1, output_dim=10):\n",
    "        super().__init__()\n",
    "        self.linear = nn.Linear(7 * 7 * input_channels, output_dim)\n",
    "\n",
    "    def preprocess(self, x):\n",
    "        x = nn.functional.avg_pool2d(x, kernel_size=4)\n",
    "        x = x.view(x.size(0), -1)\n",
    "        return x\n",
    "\n",
    "    def forward(self, x):\n",
    "        x = self.preprocess(x)\n",
    "        return self.linear(x)"
   ]
  },
  {
   "cell_type": "code",
   "execution_count": 202,
   "id": "ac111d5c-dfa2-44e2-9a57-f2f4c2caff2d",
   "metadata": {},
   "outputs": [
    {
     "data": {
      "image/png": "[encoded data removed]",
      "text/plain": [
       "<Figure size 800x400 with 2 Axes>"
      ]
     },
     "metadata": {},
     "output_type": "display_data"
    }
   ],
   "source": [
    "images, labels = list(train_loader)[0]\n",
    "image, label = images[0], labels[0]\n",
    "\n",
    "model = LinearModel()\n",
    "downsampled = model.preprocess(image)\n",
    "\n",
    "fig, axs = plt.subplots(1, 2, figsize=(8, 4))\n",
    "\n",
    "axs[0].imshow(image.squeeze().numpy(), cmap='gray')\n",
    "axs[0].set_title(\"Original 28x28\")\n",
    "\n",
    "axs[1].imshow(downsampled.view(7, 7).detach().numpy(), cmap='gray')\n",
    "axs[1].set_title(\"Downsampled 7x7\")\n",
    "\n",
    "plt.show()"
   ]
  },
  {
   "cell_type": "markdown",
   "id": "e5becae4-e27f-43ed-a1c5-ced8c16f4cac",
   "metadata": {
    "id": "qeWZ7DeNMG20"
   },
   "source": [
    "## A.2 - Loss and optimizer\n",
    "Create a cross entropy loss."
   ]
  },
  {
   "cell_type": "code",
   "execution_count": 171,
   "id": "a85b789e",
   "metadata": {
    "id": "a85b789e"
   },
   "outputs": [],
   "source": [
    "criterion = nn.CrossEntropyLoss()"
   ]
  },
  {
   "cell_type": "markdown",
   "id": "43aec31b-3d2b-4b29-ad85-e88a6e25660a",
   "metadata": {
    "id": "ZCnlsh9iMhx_"
   },
   "source": [
    "## A.3 - Training and testing loops\n",
    "Finally, create the functions `train(model, epoch, preprocess, optimizer)` and `test(model)` to train (one epoch with SGD and a learning rate of $10^{-3}$) and test your model."
   ]
  },
  {
   "cell_type": "code",
   "execution_count": 172,
   "id": "521e5485-b676-4f73-bedc-d35c5fcfd394",
   "metadata": {
    "id": "iMXijrch3z0L"
   },
   "outputs": [],
   "source": [
    "def train(model, epoch, train_loader, optimizer, device='cpu'):\n",
    "    model.to(device)\n",
    "    model.train()\n",
    "    total_correct = 0\n",
    "    total_samples = 0\n",
    "\n",
    "    for batch_idx, (data, target) in enumerate(train_loader):\n",
    "        data, target = data.to(device), target.to(device)\n",
    "\n",
    "        optimizer.zero_grad()\n",
    "        output = model(data)\n",
    "        loss = criterion(output, target)\n",
    "        loss.backward()\n",
    "        optimizer.step()\n",
    "\n",
    "        preds = output.argmax(dim=1)\n",
    "        total_correct += preds.eq(target).sum().item()\n",
    "        total_samples += target.size(0)\n",
    "\n",
    "    train_accuracy = total_correct / total_samples\n",
    "    return optimizer, train_accuracy\n",
    "\n",
    "\n",
    "def test(model, test_loader, device='cpu'):\n",
    "    model.to(device)\n",
    "    model.eval()\n",
    "    total_correct = 0\n",
    "    total_samples = 0\n",
    "\n",
    "    with torch.no_grad():\n",
    "        for data, target in test_loader:\n",
    "            data, target = data.to(device), target.to(device)\n",
    "            output = model(data)\n",
    "            pred = output.argmax(dim=1)\n",
    "            total_correct += pred.eq(target).sum().item()\n",
    "            total_samples += target.size(0)\n",
    "\n",
    "    accuracy = total_correct / total_samples\n",
    "    return accuracy"
   ]
  },
  {
   "cell_type": "markdown",
   "id": "aa359382-2580-44ae-bcdb-3f18cf1f4c61",
   "metadata": {
    "id": "_t4SiXk33z0L"
   },
   "source": [
    "You should get at least 85\\% test accuracy even with only 2 epochs. We will be aiming for around 95\\% test accuracy and above."
   ]
  },
  {
   "cell_type": "code",
   "execution_count": 173,
   "id": "6f12bf85-45c6-41d9-87f3-0601bc4b6339",
   "metadata": {
    "id": "nBmfvtl6UbUe",
    "scrolled": true
   },
   "outputs": [
    {
     "name": "stdout",
     "output_type": "stream",
     "text": [
      "Époque 0: train acc = 0.7610, test acc = 0.8379\n",
      "Époque 1: train acc = 0.8427, test acc = 0.8577\n",
      "Époque 2: train acc = 0.8524, test acc = 0.8668\n",
      "Époque 3: train acc = 0.8571, test acc = 0.8702\n",
      "Époque 4: train acc = 0.8604, test acc = 0.8715\n",
      "Époque 5: train acc = 0.8630, test acc = 0.8726\n",
      "Époque 6: train acc = 0.8651, test acc = 0.8757\n",
      "Époque 7: train acc = 0.8667, test acc = 0.8769\n",
      "Époque 8: train acc = 0.8678, test acc = 0.8784\n",
      "Époque 9: train acc = 0.8689, test acc = 0.8777\n"
     ]
    }
   ],
   "source": [
    "model = LinearModel()\n",
    "optimizer = torch.optim.SGD(model.parameters(), lr=0.1)\n",
    "\n",
    "for epoch in range(NUM_EPOCH):\n",
    "    optimizer, train_acc = train(model, epoch, train_loader, optimizer, device)\n",
    "    test_acc = test(model, test_loader, device)\n",
    "    print(f\"Époque {epoch}: train acc = {train_acc:.4f}, test acc = {test_acc:.4f}\")"
   ]
  },
  {
   "cell_type": "markdown",
   "id": "bf28bb4e-7178-4340-9247-f69591e86dcf",
   "metadata": {
    "id": "RrwYAMMBEUPN"
   },
   "source": [
    "## A.4 - Multi-layer perceptron (MLP)\n",
    "\n",
    "Create a class MLP that creates an MLP of given width and depth, and use it to create a 3-layer MLP of width $100$. We will assume that `width > 0` and `depth > 0`."
   ]
  },
  {
   "cell_type": "code",
   "execution_count": 174,
   "id": "aba5bf1a",
   "metadata": {},
   "outputs": [],
   "source": [
    "class MLP(nn.Module):\n",
    "    def __init__(self, width, depth, input_dim = 28 * 28, output_dim = 10):\n",
    "        super().__init__()\n",
    "        layers = []\n",
    "\n",
    "        layers.append(nn.Linear(input_dim, width))\n",
    "        layers.append(nn.ReLU())\n",
    "\n",
    "        for _ in range(depth - 2):\n",
    "            layers.append(nn.Linear(width, width))\n",
    "            layers.append(nn.ReLU())\n",
    "\n",
    "        if depth > 1:\n",
    "            layers.append(nn.Linear(width, output_dim))\n",
    "        else:\n",
    "            layers[0] = nn.Linear(input_dim, output_dim)\n",
    "\n",
    "        self.net = nn.Sequential(*layers)\n",
    "\n",
    "    def forward(self, x):\n",
    "        x = self.preprocess(x)\n",
    "        return self.net(x)\n",
    "    \n",
    "    def preprocess(self, x):\n",
    "        return x.flatten(1)"
   ]
  },
  {
   "cell_type": "code",
   "execution_count": 175,
   "id": "3074c881",
   "metadata": {},
   "outputs": [
    {
     "name": "stdout",
     "output_type": "stream",
     "text": [
      "Époque 0: train acc = 0.8480, test acc = 0.9243\n",
      "Époque 1: train acc = 0.9354, test acc = 0.9457\n",
      "Époque 2: train acc = 0.9513, test acc = 0.9398\n",
      "Époque 3: train acc = 0.9615, test acc = 0.9601\n",
      "Époque 4: train acc = 0.9683, test acc = 0.9660\n",
      "Époque 5: train acc = 0.9725, test acc = 0.9691\n",
      "Époque 6: train acc = 0.9760, test acc = 0.9670\n",
      "Époque 7: train acc = 0.9795, test acc = 0.9673\n",
      "Époque 8: train acc = 0.9820, test acc = 0.9715\n",
      "Époque 9: train acc = 0.9839, test acc = 0.9743\n"
     ]
    }
   ],
   "source": [
    "model = MLP(width=100, depth=3)\n",
    "optimizer = torch.optim.SGD(model.parameters(), lr=0.1)\n",
    "\n",
    "for epoch in range(NUM_EPOCH):\n",
    "    optimizer, train_acc = train(model, epoch, train_loader, optimizer, device)\n",
    "    test_acc = test(model, test_loader, device)\n",
    "    print(f\"Époque {epoch}: train acc = {train_acc:.4f}, test acc = {test_acc:.4f}\")"
   ]
  },
  {
   "cell_type": "markdown",
   "id": "76ca5a11-93e4-47ab-81f1-e4ee3cae45c9",
   "metadata": {
    "id": "v1czyC9R3z0R"
   },
   "source": [
    "# A.5 - Deep convolutional model\n",
    "\n",
    "Write a convolutional model, with learned features.\n",
    "Use two layers, one convolutional with 8 filters of size 3x3, then take a relu and max-pool with kernel size 2, and finally flatten and add a Linear layer. You can use the identity as pre-processing function."
   ]
  },
  {
   "cell_type": "markdown",
   "id": "4933e318-5521-4bf8-b011-bdb95ed0d8b0",
   "metadata": {},
   "source": [
    "\n",
    "Here is a little animation to remind you of the sliding window principle of convolutions.\n",
    "\n",
    "![conv](https://github.com//vdumoulin/conv_arithmetic/raw/master/gif/no_padding_no_strides.gif)"
   ]
  },
  {
   "cell_type": "code",
   "execution_count": 176,
   "id": "44c87b30-36d7-4567-b009-a41413afac5b",
   "metadata": {
    "id": "l4QOi_oe3z0R"
   },
   "outputs": [],
   "source": [
    "class ConvModel(nn.Module):\n",
    "    def __init__(self, output_dim=10):\n",
    "        super(ConvModel, self).__init__()\n",
    "        self.conv = nn.Conv2d(in_channels=1, out_channels=8, kernel_size=3)\n",
    "        self.pool = nn.MaxPool2d(kernel_size=2)\n",
    "        self.fc = nn.Linear(8 * 13 * 13, output_dim)\n",
    "\n",
    "    def forward(self, x):\n",
    "        x = self.preprocess(x)\n",
    "        x = self.conv(x)\n",
    "        x = nn.functional.relu(x)\n",
    "        x = self.pool(x)\n",
    "        x = x.view(x.size(0), -1)\n",
    "        x = self.fc(x)\n",
    "        return x\n",
    "\n",
    "    def preprocess(self, x):\n",
    "        return x"
   ]
  },
  {
   "cell_type": "code",
   "execution_count": 177,
   "id": "b3247fc5",
   "metadata": {},
   "outputs": [
    {
     "name": "stdout",
     "output_type": "stream",
     "text": [
      "Époque 0: train acc = 0.8922, test acc = 0.9436\n",
      "Époque 1: train acc = 0.9588, test acc = 0.9556\n",
      "Époque 2: train acc = 0.9690, test acc = 0.9705\n",
      "Époque 3: train acc = 0.9733, test acc = 0.9643\n",
      "Époque 4: train acc = 0.9758, test acc = 0.9708\n",
      "Époque 5: train acc = 0.9779, test acc = 0.9774\n",
      "Époque 6: train acc = 0.9798, test acc = 0.9762\n",
      "Époque 7: train acc = 0.9807, test acc = 0.9680\n",
      "Époque 8: train acc = 0.9821, test acc = 0.9789\n",
      "Époque 9: train acc = 0.9830, test acc = 0.9770\n"
     ]
    }
   ],
   "source": [
    "model = ConvModel()\n",
    "optimizer = torch.optim.SGD(model.parameters(), lr=0.1)\n",
    "\n",
    "for epoch in range(NUM_EPOCH):\n",
    "    optimizer, train_acc = train(model, epoch, train_loader, optimizer, device)\n",
    "    test_acc = test(model, test_loader, device)\n",
    "    print(f\"Époque {epoch}: train acc = {train_acc:.4f}, test acc = {test_acc:.4f}\")"
   ]
  },
  {
   "cell_type": "markdown",
   "id": "a0313eed-03ad-461d-9ddb-bb690c631149",
   "metadata": {
    "id": "pbQ1LUqf3z0R"
   },
   "source": [
    "You should be able to get around 97\\% to 98\\% accuracy with this model. Try increasing the NUM_EPOCH constant and watch what happens to test accuracy and train accuracy as training progresses further.\n",
    "\n",
    "Write a deeper convolutional model, with one convolutional layer as previously, but three linear layers with relu activations after that.\n",
    "Use `h = 100` hidden neurons. How does the test accuracy compare with the previous two-layer network ?"
   ]
  },
  {
   "cell_type": "code",
   "execution_count": null,
   "id": "792791e1-0514-4749-a3fb-d27eb10a1bd2",
   "metadata": {
    "id": "YM-OhC123z0R"
   },
   "outputs": [],
   "source": [
    "class DeepConvModel(nn.Module):\n",
    "    def __init__(self, h=100, output_dim=10):\n",
    "        super(DeepConvModel, self).__init__()\n",
    "        self.conv = nn.Conv2d(in_channels=1, out_channels=8, kernel_size=3)\n",
    "        self.pool = nn.MaxPool2d(kernel_size=2)\n",
    "        \n",
    "        self.flatten_dim = 8 * 13 * 13\n",
    "        \n",
    "        self.fc1 = nn.Linear(self.flatten_dim, h)\n",
    "        self.fc2 = nn.Linear(h, h)\n",
    "        self.fc3 = nn.Linear(h, output_dim)\n",
    "\n",
    "    def forward(self, x):\n",
    "        x = self.preprocess(x)\n",
    "        x = self.conv(x)\n",
    "        x = nn.functional.relu(x)\n",
    "        x = self.pool(x)\n",
    "        x = x.view(x.size(0), -1)\n",
    "        x = nn.functional.relu(self.fc1(x))\n",
    "        x = nn.functional.relu(self.fc2(x))\n",
    "        x = self.fc3(x)\n",
    "        return x\n",
    "\n",
    "    def preprocess(self, x):\n",
    "        return x"
   ]
  },
  {
   "cell_type": "code",
   "execution_count": 197,
   "id": "4e6d4c25",
   "metadata": {},
   "outputs": [
    {
     "name": "stdout",
     "output_type": "stream",
     "text": [
      "Époque 0: train acc = 0.8208, test acc = 0.9286\n",
      "Époque 1: train acc = 0.9499, test acc = 0.9524\n",
      "Époque 2: train acc = 0.9660, test acc = 0.9674\n",
      "Époque 3: train acc = 0.9759, test acc = 0.9649\n",
      "Époque 4: train acc = 0.9805, test acc = 0.9761\n",
      "Époque 5: train acc = 0.9841, test acc = 0.9719\n",
      "Époque 6: train acc = 0.9863, test acc = 0.9785\n",
      "Époque 7: train acc = 0.9391, test acc = 0.9725\n",
      "Époque 8: train acc = 0.9811, test acc = 0.9775\n",
      "Époque 9: train acc = 0.9857, test acc = 0.9810\n"
     ]
    }
   ],
   "source": [
    "model = DeepConvModel()\n",
    "optimizer = torch.optim.SGD(model.parameters(), lr=0.1)\n",
    "\n",
    "for epoch in range(NUM_EPOCH):\n",
    "    optimizer, train_acc = train(model, epoch, train_loader, optimizer, device)\n",
    "    test_acc = test(model, test_loader, device)\n",
    "    print(f\"Époque {epoch}: train acc = {train_acc:.4f}, test acc = {test_acc:.4f}\")"
   ]
  },
  {
   "cell_type": "markdown",
   "id": "46fd763b-b36a-461c-ad34-f472e62ce46d",
   "metadata": {},
   "source": [
    "## A.6 Visualisations of convolutions\n",
    "\n",
    "After training your model, let's see what features it has learned!\n",
    "\n",
    "Plot an image from the test set then plot all 8 feature maps extracted by the convolutional layer"
   ]
  },
  {
   "cell_type": "code",
   "execution_count": 198,
   "id": "0e5284c2-4210-4ccc-bf05-5e722bdabf63",
   "metadata": {},
   "outputs": [
    {
     "data": {
      "image/png": "[encoded data removed]",
      "text/plain": [
       "<Figure size 300x300 with 1 Axes>"
      ]
     },
     "metadata": {},
     "output_type": "display_data"
    },
    {
     "data": {
      "image/png": "[encoded data removed]",
      "text/plain": [
       "<Figure size 1200x600 with 8 Axes>"
      ]
     },
     "metadata": {},
     "output_type": "display_data"
    }
   ],
   "source": [
    "sample_img, sample_label = next(iter(test_loader))\n",
    "sample_img = sample_img[0].unsqueeze(0).to(device) \n",
    "\n",
    "model.eval()\n",
    "\n",
    "with torch.no_grad():\n",
    "    x = model.preprocess(sample_img)\n",
    "    conv_out = model.conv(x)\n",
    "\n",
    "plt.figure(figsize=(3, 3))\n",
    "plt.title(f\"Image originale - Label: {sample_label[0].item()}\")\n",
    "plt.imshow(sample_img.squeeze().cpu(), cmap=\"gray\")\n",
    "plt.axis(\"off\")\n",
    "plt.show()\n",
    "\n",
    "fig, axes = plt.subplots(2, 4, figsize=(12, 6))\n",
    "for i, ax in enumerate(axes.flat):\n",
    "    ax.imshow(conv_out[0, i].cpu(), cmap=\"viridis\")\n",
    "    ax.set_title(f\"Feature map {i+1}\")\n",
    "    ax.axis(\"off\")\n",
    "\n",
    "plt.tight_layout()\n",
    "plt.show()"
   ]
  },
  {
   "cell_type": "markdown",
   "id": "dc457ad1-3240-4ffb-a8f3-98c6554dfce5",
   "metadata": {
    "id": "riu_K1at3z0R"
   },
   "source": [
    "# Part B - Residual models\n",
    "\n",
    "## B.1 - Residual blocks\n",
    "\n",
    "Write a residual block with two linear layers to learn a function $\\mathbb{R}^d \\to \\mathbb{R}^d$ with $h < d$ hidden neurons.\n",
    "Write a convolutional residual block with the same idea. What hyperparameter acts as the number of hidden neurons in convolutional blocks ?"
   ]
  },
  {
   "cell_type": "code",
   "execution_count": null,
   "id": "c5b3fce1",
   "metadata": {},
   "outputs": [],
   "source": [
    "class ResidualBlock(torch.nn.Module):\n",
    "    def init(self, d, h):\n",
    "        super(ResidualBlock, self).init()\n",
    "        self.linear1 = torch.nn.Linear(d, h)\n",
    "        self.linear2 = torch.nn.Linear(h, d)\n",
    "        self.relu = torch.nn.ReLU()\n",
    "\n",
    "    def forward(self, x):\n",
    "        residual = x\n",
    "        out = self.linear1(x)\n",
    "        out = self.relu(out)\n",
    "        out = self.linear2(out)\n",
    "        out += residual\n",
    "        out = self.activation(out)\n",
    "        return out"
   ]
  },
  {
   "cell_type": "code",
   "execution_count": null,
   "id": "aec298d4-4372-4a1f-be53-a278d051c0f6",
   "metadata": {
    "id": "gkCILVwd3z0R"
   },
   "outputs": [],
   "source": [
    "class ResidualBlock(nn.Module):\n",
    "    def __init__(self, d, h):\n",
    "        super(ResidualBlock, self).__init__()\n",
    "        self.conv1 = nn.Conv2d(d, h, kernel_size=3, padding=1)\n",
    "        self.conv2 = nn.Conv2d(h, d, kernel_size=3, padding=1)\n",
    "        self.activation = nn.ReLU()\n",
    "\n",
    "    def forward(self, x):\n",
    "        residual = x\n",
    "        out = self.conv1(x)\n",
    "        out = self.activation(out)\n",
    "        out = self.conv2(out)\n",
    "        out += residual\n",
    "        out = self.activation(out)\n",
    "        return out"
   ]
  },
  {
   "cell_type": "markdown",
   "id": "9cbd12aa",
   "metadata": {},
   "source": [
    "Answer to the question :  The hyperparameter that acts as the number of hidden neurons in convolutional blocks is the number of channels in a convolutional layer.\n",
    "\n",
    "Each filter learns to detect a different feature in the input, and the more filters you have, the more complex and varied the learned representations can be — just like having more neurons in a dense (fully connected) layer. So, in convolutional layers, the number of filters is analogous to the number of hidden neurons in fully connected layers."
   ]
  },
  {
   "cell_type": "markdown",
   "id": "8cc0097d-269c-40f4-b182-bdc79bd5c512",
   "metadata": {
    "id": "huKWOvVc3z0S"
   },
   "source": [
    "## B.2 - Stacking residual blocks\n",
    "\n",
    "Use a single convolution layer, followed by a relu and max-pool, then an arbitrary number of residual blocks as defined above, and finish with a linear layer. Can you match the accuracy of the two-layer network ? Can you exceed it ? What happens when you increase the number of layers ? Look at the details of the ResNet architecture on the lecture's slides to get an idea of how to increase the number of hidden neurons and the number of layers. One of the strengths of ResNets was there relatively low number of parameters compared\n",
    "to a multi-layer architecture like that of the previous section, does this show in your experiments ?"
   ]
  },
  {
   "cell_type": "code",
   "execution_count": 181,
   "id": "bf0d4de4-11e8-490c-8262-064b3e841fa5",
   "metadata": {
    "id": "U4gg9uWg3z0S"
   },
   "outputs": [],
   "source": [
    "class ResidualModel(nn.Module):\n",
    "    def __init__(self, num_blocks=2, channels=8, hidden_channels=16, output_dim=10):\n",
    "        super(ResidualModel, self).__init__()\n",
    "        self.conv = nn.Conv2d(in_channels=1, out_channels=channels, kernel_size=3)\n",
    "        self.pool = nn.MaxPool2d(kernel_size=2)\n",
    "        self.res_blocks = nn.Sequential(\n",
    "            *[ResidualBlock(channels, hidden_channels) for _ in range(num_blocks)]\n",
    "        )\n",
    "        self.fc = nn.Linear(channels * 13 * 13, output_dim)\n",
    "\n",
    "    def forward(self, x):\n",
    "        x = self.conv(x)\n",
    "        x = nn.functional.relu(x)\n",
    "        x = self.pool(x)\n",
    "        x = self.res_blocks(x)\n",
    "        x = x.view(x.size(0), -1)\n",
    "        x = self.fc(x)\n",
    "        return x"
   ]
  },
  {
   "cell_type": "code",
   "execution_count": 182,
   "id": "f2c78bdd",
   "metadata": {},
   "outputs": [
    {
     "name": "stdout",
     "output_type": "stream",
     "text": [
      "Époque 0: train acc = 0.9162, test acc = 0.9681\n",
      "Époque 1: train acc = 0.9736, test acc = 0.9773\n",
      "Époque 2: train acc = 0.9808, test acc = 0.9744\n",
      "Époque 3: train acc = 0.9851, test acc = 0.9850\n",
      "Époque 4: train acc = 0.9865, test acc = 0.9562\n",
      "Époque 5: train acc = 0.9874, test acc = 0.9873\n",
      "Époque 6: train acc = 0.9897, test acc = 0.9866\n",
      "Époque 7: train acc = 0.9907, test acc = 0.9882\n",
      "Époque 8: train acc = 0.9919, test acc = 0.9884\n",
      "Époque 9: train acc = 0.9920, test acc = 0.9861\n"
     ]
    }
   ],
   "source": [
    "model = ResidualModel(3, 16)\n",
    "optimizer = torch.optim.SGD(model.parameters(), lr=0.1)\n",
    "\n",
    "for epoch in range(NUM_EPOCH):\n",
    "    optimizer, train_acc = train(model, epoch, train_loader, optimizer, device)\n",
    "    test_acc = test(model, test_loader, device)\n",
    "    print(f\"Époque {epoch}: train acc = {train_acc:.4f}, test acc = {test_acc:.4f}\")"
   ]
  },
  {
   "cell_type": "markdown",
   "id": "0af7599c",
   "metadata": {},
   "source": [
    "Answer to the question : Using a single convolutional layer, followed by ReLU and max-pooling, and then adding residual blocks, exceed the accuracy of a two-layer network. The residual connections help the model train deeper networks by mitigating vanishing gradient problems, leading to better performance as the number of layers increases. Increasing the number of layers generally improves the model’s accuracy, especially when residual connections are used, as they allow for more complex representations without suffering from overfitting or gradient issues. ResNets' ability to achieve high accuracy with fewer parameters compared to traditional deep networks is reflected in their efficiency, as residual blocks allow the model to learn residuals rather than raw outputs, reducing the number of weights needed. In experiments, the lower parameter count typically leads to better generalization and faster training, particularly when the network depth increases."
   ]
  },
  {
   "cell_type": "markdown",
   "id": "df418703-b1e1-4276-8ba7-dd5622c7b7cd",
   "metadata": {
    "id": "2nes_ZtBoBu0"
   },
   "source": [
    "# Part C - Reimplementing loss functions\n",
    "\n",
    "## C.0 - Combining losses\n",
    "First, we recall that, for a batch of score vectors $s\\in\\mathbb{R}^{n\\times C}$ and true labels $y\\in[1,C]^n$, **cross entropy** is defined as\n",
    "$$CE(s, y) = -\\frac{1}{n}\\sum_{i=1}^n \\log\\left( \\mbox{softmax}(s_i)_{y_i} \\right)$$\n",
    "\n",
    "where $\\mbox{softmax}(x)_i = \\frac{e^{x_i}}{\\sum_{j=1}^n e^{x_j}}$ is the probability associated to class $i\\in[1,C]$ for a score vector $x\\in\\mathbb{R}^C$.\n",
    "\n",
    "Let's try to compute cross-entropy in three different ways (see the [documentation](https://pytorch.org/docs/stable/generated/torch.nn.CrossEntropyLoss.html)):\n",
    "1. Using `nn.CrossEntropyLoss()`.\n",
    "2. Using `nn.NLLLoss()` and `nn.LogSoftmax()`.\n",
    "3. Using `nn.NLLLoss()` and `nn.Softmax()`.\n",
    "\n",
    "Check that the output is the same for all three methods on Gaussian random scores `torch.randn(n_batch, n_classes)` and random labels `torch.randint(0, n_classes, [n_batch])`, where `n_batch=4` and `n_classes=10`. Note that the scores are real valued vectors while the labels are integers corresponding to the true class."
   ]
  },
  {
   "cell_type": "code",
   "execution_count": 184,
   "id": "e1b6c172",
   "metadata": {
    "id": "e1b6c172"
   },
   "outputs": [
    {
     "name": "stdout",
     "output_type": "stream",
     "text": [
      "Scores:\n",
      " tensor([[ 1.5434, -0.1959, -0.0500, -0.9614, -0.6334,  0.7406, -1.7011, -0.2277,\n",
      "          0.0161, -1.1248],\n",
      "        [ 0.5482,  0.8885, -1.4655,  1.1009,  0.5888,  0.9091,  1.1866, -0.4989,\n",
      "          1.7044, -0.5971],\n",
      "        [ 0.1349,  0.4602, -0.7160, -0.5337, -1.3690, -0.8598,  0.1856, -0.8801,\n",
      "         -0.5525, -2.2398],\n",
      "        [ 0.3202,  1.2365,  0.2123,  0.8778, -0.0363, -1.0221,  2.7121,  0.0226,\n",
      "         -1.3747, -0.0281]])\n",
      "Labels:\n",
      " tensor([4, 5, 6, 3])\n",
      "\n",
      "1. nn.CrossEntropyLoss output: 2.35367488861084\n",
      "2. nn.NLLLoss(LogSoftmax(scores)) output: 2.35367488861084\n",
      "3. nn.NLLLoss(log(Softmax(scores))) output: 2.35367488861084\n"
     ]
    }
   ],
   "source": [
    "n_batch = 4\n",
    "n_classes = 10\n",
    "\n",
    "scores = torch.randn(n_batch, n_classes)\n",
    "labels = torch.randint(0, n_classes, (n_batch,))\n",
    "\n",
    "print(\"Scores:\\n\", scores)\n",
    "print(\"Labels:\\n\", labels)\n",
    "\n",
    "### 1. CrossEntropyLoss \n",
    "criterion1 = nn.CrossEntropyLoss()\n",
    "loss1 = criterion1(scores, labels)\n",
    "print(\"\\n1. nn.CrossEntropyLoss output:\", loss1.item())\n",
    "\n",
    "### 2. LogSoftmax + NLLLoss\n",
    "log_probs = nn.functional.log_softmax(scores, dim=1)\n",
    "criterion2 = nn.NLLLoss()\n",
    "loss2 = criterion2(log_probs, labels)\n",
    "print(\"2. nn.NLLLoss(LogSoftmax(scores)) output:\", loss2.item())\n",
    "\n",
    "### 3. Softmax + NLLLoss\n",
    "probs = nn.functional.softmax(scores, dim=1)\n",
    "log_probs2 = torch.log(probs)\n",
    "loss3 = criterion2(log_probs2, labels)\n",
    "print(\"3. nn.NLLLoss(log(Softmax(scores))) output:\", loss3.item())"
   ]
  },
  {
   "cell_type": "markdown",
   "id": "bba900c6-f7b2-4179-a2f1-f1eede4b6697",
   "metadata": {
    "id": "TWKaTBVd5ftN"
   },
   "source": [
    "## C.1 - Re-implementation\n",
    "Now re-implement cross-entropy using base functions (`torch.log`, `torch.exp`, `torch.sum`, etc...). Verify that your function returns the same value as Pytorch's implementation."
   ]
  },
  {
   "cell_type": "code",
   "execution_count": 185,
   "id": "EfA-3-E7qwgF",
   "metadata": {
    "id": "EfA-3-E7qwgF"
   },
   "outputs": [
    {
     "name": "stdout",
     "output_type": "stream",
     "text": [
      "My loss: 0.3185398578643799\n",
      "PyTorch loss: 0.31853973865509033\n"
     ]
    }
   ],
   "source": [
    "def ce(logits, targets):\n",
    "    log_probs = logits - torch.log(torch.sum(torch.exp(logits), dim=1, keepdim=True))\n",
    "    selected_log_probs = log_probs[torch.arange(len(targets)), targets]\n",
    "    loss = -torch.mean(selected_log_probs)\n",
    "    return loss\n",
    "\n",
    "logits = torch.tensor([[2.0, 1.0, 0.1],\n",
    "                       [0.5, 2.5, 0.3]], requires_grad=True)\n",
    "targets = torch.tensor([0, 1])\n",
    "\n",
    "my_loss = ce(logits, targets)\n",
    "\n",
    "criterion = torch.nn.CrossEntropyLoss()\n",
    "torch_loss = criterion(logits, targets)\n",
    "\n",
    "print(\"My loss:\", my_loss.item())\n",
    "print(\"PyTorch loss:\", torch_loss.item())"
   ]
  },
  {
   "cell_type": "markdown",
   "id": "011ec13a-330a-4073-99b9-2eb9dd42d1f8",
   "metadata": {
    "id": "OFG0QfKN7WtO"
   },
   "source": [
    "## C.2 - Stability analysis\n",
    "Softmax probabilities can be relatively unstable due to their use of exponentials. Pytorch implementations thus usually use log probas or logits to avoid overflows or floating point errors. Test all methods (including your own) on Gaussian random scores of standard deviation equal to $100$. Which methods are stable? Why? Is it an issue in practice?"
   ]
  },
  {
   "cell_type": "code",
   "execution_count": 195,
   "id": "741771f5-864d-446a-b654-3b4f5a2598ca",
   "metadata": {},
   "outputs": [
    {
     "name": "stdout",
     "output_type": "stream",
     "text": [
      "Manual stable CE: 98.49649810791016\n",
      "My own ce (Naive softmax+log CE): tensor(inf)\n",
      "PyTorch CrossEntropyLoss: 98.49650573730469\n"
     ]
    }
   ],
   "source": [
    "logits = torch.randn(10, 5) * 100\n",
    "targets = torch.randint(0, 5, (10,))\n",
    "\n",
    "# Manual cross-entropy using log-sum-exp trick\n",
    "def stable_ce(logits, targets):\n",
    "    log_probs = logits - torch.logsumexp(logits, dim=1, keepdim=True)\n",
    "    return -torch.mean(log_probs[torch.arange(len(targets)), targets])\n",
    "\n",
    "criterion = torch.nn.CrossEntropyLoss()\n",
    "torch_loss = criterion(logits, targets)\n",
    "\n",
    "loss_stable = stable_ce(logits, targets)\n",
    "\n",
    "my_loss = ce(logits, targets)\n",
    "\n",
    "print(\"Manual stable CE:\", loss_stable.item())\n",
    "print(\"My own ce (Naive softmax+log CE):\", my_loss)\n",
    "print(\"PyTorch CrossEntropyLoss:\", torch_loss.item())"
   ]
  },
  {
   "cell_type": "markdown",
   "id": "94a1979e",
   "metadata": {},
   "source": [
    "Answer to the question : Only the manual implementation using the log-sum-exp trick and PyTorch’s built-in CrossEntropyLoss are stable when tested with high-variance logits, because they avoid overflow by operating in log-space. The naive softmax + log approach is unstable due to the exponential of large logits causing numerical overflow. In practice, this issue is rare thanks to stable implementations and regularization techniques controlling the scale of logits."
   ]
  },
  {
   "cell_type": "markdown",
   "id": "5ecaaf7c-b21f-4e18-ac53-1a77adbc60bf",
   "metadata": {
    "id": "Y3y4BfwbBIGy"
   },
   "source": [
    "Re-implement a stable version of cross-entropy."
   ]
  },
  {
   "cell_type": "code",
   "execution_count": 196,
   "id": "83d00dab-a37e-48da-880f-81f10efdc133",
   "metadata": {},
   "outputs": [],
   "source": [
    "def stable_ce(logits, targets):\n",
    "    log_probs = logits - torch.logsumexp(logits, dim=1, keepdim=True)\n",
    "    return -torch.mean(log_probs[torch.arange(len(targets)), targets])"
   ]
  }
 ],
 "metadata": {
  "kernelspec": {
   "display_name": "base",
   "language": "python",
   "name": "python3"
  },
  "language_info": {
   "codemirror_mode": {
    "name": "ipython",
    "version": 3
   },
   "file_extension": ".py",
   "mimetype": "text/x-python",
   "name": "python",
   "nbconvert_exporter": "python",
   "pygments_lexer": "ipython3",
   "version": "3.11.5"
  }
 },
 "nbformat": 4,
 "nbformat_minor": 5
}
